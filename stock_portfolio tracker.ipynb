{
 "cells": [
  {
   "cell_type": "code",
   "execution_count": 1,
   "id": "bff400a4-1607-4f26-bd8b-95c11042dc08",
   "metadata": {},
   "outputs": [
    {
     "name": "stdout",
     "output_type": "stream",
     "text": [
      "Stock Portfolio Tracker\n",
      "Available stocks: AAPL, GOOGL, MSFT, AMZN, TSLA\n"
     ]
    },
    {
     "name": "stdin",
     "output_type": "stream",
     "text": [
      "Enter stock symbol (or 'done' to finish):  TSLA\n",
      "Enter quantity for TSLA:  4\n",
      "Enter stock symbol (or 'done' to finish):  DONE\n"
     ]
    },
    {
     "name": "stdout",
     "output_type": "stream",
     "text": [
      "\n",
      "--- Portfolio Summary ---\n",
      "TSLA: 4 shares ($250.30 each)\n",
      "\n",
      "Total Investment: $1001.20\n"
     ]
    },
    {
     "name": "stdin",
     "output_type": "stream",
     "text": [
      "Save to file? (y/n):  Y\n"
     ]
    },
    {
     "name": "stdout",
     "output_type": "stream",
     "text": [
      "Portfolio saved to 'portfolio.txt'.\n"
     ]
    }
   ],
   "source": [
    "def stock_portfolio_tracker():\n",
    "    stock_prices = {\n",
    "        \"AAPL\": 180.50,\n",
    "        \"GOOGL\": 135.25,\n",
    "        \"MSFT\": 320.75,\n",
    "        \"AMZN\": 145.60,\n",
    "        \"TSLA\": 250.30\n",
    "    }\n",
    "\n",
    "    portfolio = {}\n",
    "    total_investment = 0.0\n",
    "\n",
    "    print(\"Stock Portfolio Tracker\")\n",
    "    print(\"Available stocks:\", \", \".join(stock_prices.keys()))\n",
    "\n",
    "    while True:\n",
    "        stock = input(\"Enter stock symbol (or 'done' to finish): \").upper()\n",
    "        if stock == \"DONE\":\n",
    "            break\n",
    "        if stock not in stock_prices:\n",
    "            print(\"Invalid stock symbol. Try again.\")\n",
    "            continue\n",
    "\n",
    "        try:\n",
    "            quantity = int(input(f\"Enter quantity for {stock}: \"))\n",
    "            if quantity <= 0:\n",
    "                print(\"Quantity must be positive.\")\n",
    "                continue\n",
    "        except ValueError:\n",
    "            print(\"Invalid quantity. Must be a number.\")\n",
    "            continue\n",
    "\n",
    "        portfolio[stock] = quantity\n",
    "        total_investment += quantity * stock_prices[stock]\n",
    "\n",
    "    print(\"\\n--- Portfolio Summary ---\")\n",
    "    for stock, quantity in portfolio.items():\n",
    "        print(f\"{stock}: {quantity} shares (${stock_prices[stock]:.2f} each)\")\n",
    "\n",
    "    print(f\"\\nTotal Investment: ${total_investment:.2f}\")\n",
    "\n",
    "    save = input(\"Save to file? (y/n): \").lower()\n",
    "    if save == \"y\":\n",
    "        with open(\"portfolio.txt\", \"w\") as f:\n",
    "            f.write(\"Stock,Quantity,Price,Value\\n\")\n",
    "            for stock, quantity in portfolio.items():\n",
    "                f.write(f\"{stock},{quantity},{stock_prices[stock]:.2f},{quantity * stock_prices[stock]:.2f}\\n\")\n",
    "            f.write(f\"\\nTotal Investment,${total_investment:.2f}\")\n",
    "        print(\"Portfolio saved to 'portfolio.txt'.\")\n",
    "\n",
    "stock_portfolio_tracker()"
   ]
  },
  {
   "cell_type": "code",
   "execution_count": null,
   "id": "f642ef4f-e38b-4bd2-9150-2f09a3e032a3",
   "metadata": {},
   "outputs": [],
   "source": []
  }
 ],
 "metadata": {
  "kernelspec": {
   "display_name": "Python 3 (ipykernel)",
   "language": "python",
   "name": "python3"
  },
  "language_info": {
   "codemirror_mode": {
    "name": "ipython",
    "version": 3
   },
   "file_extension": ".py",
   "mimetype": "text/x-python",
   "name": "python",
   "nbconvert_exporter": "python",
   "pygments_lexer": "ipython3",
   "version": "3.12.4"
  }
 },
 "nbformat": 4,
 "nbformat_minor": 5
}
